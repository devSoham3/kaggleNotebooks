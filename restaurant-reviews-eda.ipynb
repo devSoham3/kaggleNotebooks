{
 "cells": [
  {
   "cell_type": "code",
   "execution_count": 1,
   "id": "2fbd8a46",
   "metadata": {
    "_cell_guid": "b1076dfc-b9ad-4769-8c92-a6c4dae69d19",
    "_uuid": "8f2839f25d086af736a60e9eeb907d3b93b6e0e5",
    "execution": {
     "iopub.execute_input": "2023-09-08T15:02:53.206236Z",
     "iopub.status.busy": "2023-09-08T15:02:53.205498Z",
     "iopub.status.idle": "2023-09-08T15:02:55.817409Z",
     "shell.execute_reply": "2023-09-08T15:02:55.816023Z"
    },
    "papermill": {
     "duration": 2.628162,
     "end_time": "2023-09-08T15:02:55.819822",
     "exception": false,
     "start_time": "2023-09-08T15:02:53.191660",
     "status": "completed"
    },
    "tags": []
   },
   "outputs": [
    {
     "name": "stdout",
     "output_type": "stream",
     "text": [
      "/kaggle/input/google-maps-restaurant-reviews reviews.csv\n",
      "/kaggle/input/google-maps-restaurant-reviews/reviews.csv\n",
      "/kaggle/input/google-maps-restaurant-reviews/dataset/dataset/outdoor_atmosphere my_friends_burger_fethi_duhan_calik.png\n",
      "/kaggle/input/google-maps-restaurant-reviews/dataset/dataset/outdoor_atmosphere/my_friends_burger_fethi_duhan_calik.png\n",
      "/kaggle/input/google-maps-restaurant-reviews/dataset/dataset/taste sardalye_efecan_kobo.png\n",
      "/kaggle/input/google-maps-restaurant-reviews/dataset/dataset/taste/sardalye_efecan_kobo.png\n",
      "/kaggle/input/google-maps-restaurant-reviews/dataset/dataset/menu nazar_cafe_kadir_turkoglu.png\n",
      "/kaggle/input/google-maps-restaurant-reviews/dataset/dataset/menu/nazar_cafe_kadir_turkoglu.png\n",
      "/kaggle/input/google-maps-restaurant-reviews/dataset/dataset/indoor_atmosphere cemo_etliekmek_mehmet_akyel.png\n",
      "/kaggle/input/google-maps-restaurant-reviews/dataset/dataset/indoor_atmosphere/cemo_etliekmek_mehmet_akyel.png\n",
      "/kaggle/input/google-maps-restaurant-reviews/sepetcioglu_restaurant 11.png\n",
      "/kaggle/input/google-maps-restaurant-reviews/sepetcioglu_restaurant/11.png\n"
     ]
    }
   ],
   "source": [
    "# This Python 3 environment comes with many helpful analytics libraries installed\n",
    "# It is defined by the kaggle/python Docker image: https://github.com/kaggle/docker-python\n",
    "# For example, here's several helpful packages to load\n",
    "\n",
    "import numpy as np # linear algebra\n",
    "import pandas as pd # data processing, CSV file I/O (e.g. pd.read_csv)\n",
    "import cv2 as opencv\n",
    "from matplotlib import pyplot as plt\n",
    "from matplotlib import image as mpimg\n",
    "import seaborn as sns\n",
    "\n",
    "# Input data files are available in the read-only \"../input/\" directory\n",
    "# For example, running this (by clicking run or pressing Shift+Enter) will list all files under the input directory\n",
    "\n",
    "import os\n",
    "for dirname, _, filenames in os.walk('/kaggle/input'):\n",
    "    for filename in filenames:\n",
    "        print(dirname, filename)\n",
    "        print(os.path.join(dirname, filename))\n",
    "        break\n",
    "# You can write up to 20GB to the current directory (/kaggle/working/) that gets preserved as output when you create a version using \"Save & Run All\" \n",
    "# You can also write temporary files to /kaggle/temp/, but they won't be saved outside of the current session"
   ]
  },
  {
   "cell_type": "markdown",
   "id": "ed83a3d0",
   "metadata": {
    "papermill": {
     "duration": 0.009597,
     "end_time": "2023-09-08T15:02:55.839449",
     "exception": false,
     "start_time": "2023-09-08T15:02:55.829852",
     "status": "completed"
    },
    "tags": []
   },
   "source": [
    "## Reading in the dataset"
   ]
  },
  {
   "cell_type": "code",
   "execution_count": 2,
   "id": "dd3ac925",
   "metadata": {
    "execution": {
     "iopub.execute_input": "2023-09-08T15:02:55.861029Z",
     "iopub.status.busy": "2023-09-08T15:02:55.860190Z",
     "iopub.status.idle": "2023-09-08T15:02:55.921400Z",
     "shell.execute_reply": "2023-09-08T15:02:55.920254Z"
    },
    "papermill": {
     "duration": 0.074597,
     "end_time": "2023-09-08T15:02:55.923691",
     "exception": false,
     "start_time": "2023-09-08T15:02:55.849094",
     "status": "completed"
    },
    "tags": []
   },
   "outputs": [
    {
     "data": {
      "text/html": [
       "<div>\n",
       "<style scoped>\n",
       "    .dataframe tbody tr th:only-of-type {\n",
       "        vertical-align: middle;\n",
       "    }\n",
       "\n",
       "    .dataframe tbody tr th {\n",
       "        vertical-align: top;\n",
       "    }\n",
       "\n",
       "    .dataframe thead th {\n",
       "        text-align: right;\n",
       "    }\n",
       "</style>\n",
       "<table border=\"1\" class=\"dataframe\">\n",
       "  <thead>\n",
       "    <tr style=\"text-align: right;\">\n",
       "      <th></th>\n",
       "      <th>business_name</th>\n",
       "      <th>author_name</th>\n",
       "      <th>text</th>\n",
       "      <th>photo</th>\n",
       "      <th>rating</th>\n",
       "      <th>rating_category</th>\n",
       "    </tr>\n",
       "  </thead>\n",
       "  <tbody>\n",
       "    <tr>\n",
       "      <th>0</th>\n",
       "      <td>Haci'nin Yeri - Yigit Lokantasi</td>\n",
       "      <td>Gulsum Akar</td>\n",
       "      <td>We went to Marmaris with my wife for a holiday...</td>\n",
       "      <td>dataset/taste/hacinin_yeri_gulsum_akar.png</td>\n",
       "      <td>5</td>\n",
       "      <td>taste</td>\n",
       "    </tr>\n",
       "    <tr>\n",
       "      <th>1</th>\n",
       "      <td>Haci'nin Yeri - Yigit Lokantasi</td>\n",
       "      <td>Oguzhan Cetin</td>\n",
       "      <td>During my holiday in Marmaris we ate here to f...</td>\n",
       "      <td>dataset/menu/hacinin_yeri_oguzhan_cetin.png</td>\n",
       "      <td>4</td>\n",
       "      <td>menu</td>\n",
       "    </tr>\n",
       "    <tr>\n",
       "      <th>2</th>\n",
       "      <td>Haci'nin Yeri - Yigit Lokantasi</td>\n",
       "      <td>Yasin Kuyu</td>\n",
       "      <td>Prices are very affordable. The menu in the ph...</td>\n",
       "      <td>dataset/outdoor_atmosphere/hacinin_yeri_yasin_...</td>\n",
       "      <td>3</td>\n",
       "      <td>outdoor_atmosphere</td>\n",
       "    </tr>\n",
       "    <tr>\n",
       "      <th>3</th>\n",
       "      <td>Haci'nin Yeri - Yigit Lokantasi</td>\n",
       "      <td>Orhan Kapu</td>\n",
       "      <td>Turkey's cheapest artisan restaurant and its f...</td>\n",
       "      <td>dataset/indoor_atmosphere/hacinin_yeri_orhan_k...</td>\n",
       "      <td>5</td>\n",
       "      <td>indoor_atmosphere</td>\n",
       "    </tr>\n",
       "    <tr>\n",
       "      <th>4</th>\n",
       "      <td>Haci'nin Yeri - Yigit Lokantasi</td>\n",
       "      <td>Ozgur Sati</td>\n",
       "      <td>I don't know what you will look for in terms o...</td>\n",
       "      <td>dataset/menu/hacinin_yeri_ozgur_sati.png</td>\n",
       "      <td>3</td>\n",
       "      <td>menu</td>\n",
       "    </tr>\n",
       "    <tr>\n",
       "      <th>...</th>\n",
       "      <td>...</td>\n",
       "      <td>...</td>\n",
       "      <td>...</td>\n",
       "      <td>...</td>\n",
       "      <td>...</td>\n",
       "      <td>...</td>\n",
       "    </tr>\n",
       "    <tr>\n",
       "      <th>1095</th>\n",
       "      <td>Miss Pizza</td>\n",
       "      <td>Salih Gursoy</td>\n",
       "      <td>There are so many types of pizza; you are surp...</td>\n",
       "      <td>dataset/taste/miss_pizza_salih_gursoy.png</td>\n",
       "      <td>5</td>\n",
       "      <td>taste</td>\n",
       "    </tr>\n",
       "    <tr>\n",
       "      <th>1096</th>\n",
       "      <td>Miss Pizza</td>\n",
       "      <td>Kemal Amangeldi</td>\n",
       "      <td>I tried the smoked ribeye pizza; the dough is ...</td>\n",
       "      <td>dataset/indoor_atmosphere/miss_pizza_kemal_ama...</td>\n",
       "      <td>5</td>\n",
       "      <td>indoor_atmosphere</td>\n",
       "    </tr>\n",
       "    <tr>\n",
       "      <th>1097</th>\n",
       "      <td>Miss Pizza</td>\n",
       "      <td>Ulkem Esen</td>\n",
       "      <td>Crowded and expensive place.</td>\n",
       "      <td>dataset/menu/miss_pizza_ulkem_esen.png</td>\n",
       "      <td>3</td>\n",
       "      <td>menu</td>\n",
       "    </tr>\n",
       "    <tr>\n",
       "      <th>1098</th>\n",
       "      <td>Miss Pizza</td>\n",
       "      <td>Ilkin Saymaz</td>\n",
       "      <td>No bad. It was very crowded; there was no ligh...</td>\n",
       "      <td>dataset/taste/miss_pizza_ilkin_saymaz.png</td>\n",
       "      <td>3</td>\n",
       "      <td>taste</td>\n",
       "    </tr>\n",
       "    <tr>\n",
       "      <th>1099</th>\n",
       "      <td>Miss Pizza</td>\n",
       "      <td>Samet Selcuk</td>\n",
       "      <td>Excellent pizza and fine wine. Both food and b...</td>\n",
       "      <td>dataset/outdoor_atmosphere/miss_pizza_samet_se...</td>\n",
       "      <td>4</td>\n",
       "      <td>outdoor_atmosphere</td>\n",
       "    </tr>\n",
       "  </tbody>\n",
       "</table>\n",
       "<p>1100 rows × 6 columns</p>\n",
       "</div>"
      ],
      "text/plain": [
       "                        business_name      author_name  \\\n",
       "0     Haci'nin Yeri - Yigit Lokantasi      Gulsum Akar   \n",
       "1     Haci'nin Yeri - Yigit Lokantasi    Oguzhan Cetin   \n",
       "2     Haci'nin Yeri - Yigit Lokantasi       Yasin Kuyu   \n",
       "3     Haci'nin Yeri - Yigit Lokantasi       Orhan Kapu   \n",
       "4     Haci'nin Yeri - Yigit Lokantasi       Ozgur Sati   \n",
       "...                               ...              ...   \n",
       "1095                       Miss Pizza     Salih Gursoy   \n",
       "1096                       Miss Pizza  Kemal Amangeldi   \n",
       "1097                       Miss Pizza       Ulkem Esen   \n",
       "1098                       Miss Pizza     Ilkin Saymaz   \n",
       "1099                       Miss Pizza     Samet Selcuk   \n",
       "\n",
       "                                                   text  \\\n",
       "0     We went to Marmaris with my wife for a holiday...   \n",
       "1     During my holiday in Marmaris we ate here to f...   \n",
       "2     Prices are very affordable. The menu in the ph...   \n",
       "3     Turkey's cheapest artisan restaurant and its f...   \n",
       "4     I don't know what you will look for in terms o...   \n",
       "...                                                 ...   \n",
       "1095  There are so many types of pizza; you are surp...   \n",
       "1096  I tried the smoked ribeye pizza; the dough is ...   \n",
       "1097                       Crowded and expensive place.   \n",
       "1098  No bad. It was very crowded; there was no ligh...   \n",
       "1099  Excellent pizza and fine wine. Both food and b...   \n",
       "\n",
       "                                                  photo  rating  \\\n",
       "0            dataset/taste/hacinin_yeri_gulsum_akar.png       5   \n",
       "1           dataset/menu/hacinin_yeri_oguzhan_cetin.png       4   \n",
       "2     dataset/outdoor_atmosphere/hacinin_yeri_yasin_...       3   \n",
       "3     dataset/indoor_atmosphere/hacinin_yeri_orhan_k...       5   \n",
       "4              dataset/menu/hacinin_yeri_ozgur_sati.png       3   \n",
       "...                                                 ...     ...   \n",
       "1095          dataset/taste/miss_pizza_salih_gursoy.png       5   \n",
       "1096  dataset/indoor_atmosphere/miss_pizza_kemal_ama...       5   \n",
       "1097             dataset/menu/miss_pizza_ulkem_esen.png       3   \n",
       "1098          dataset/taste/miss_pizza_ilkin_saymaz.png       3   \n",
       "1099  dataset/outdoor_atmosphere/miss_pizza_samet_se...       4   \n",
       "\n",
       "         rating_category  \n",
       "0                  taste  \n",
       "1                   menu  \n",
       "2     outdoor_atmosphere  \n",
       "3      indoor_atmosphere  \n",
       "4                   menu  \n",
       "...                  ...  \n",
       "1095               taste  \n",
       "1096   indoor_atmosphere  \n",
       "1097                menu  \n",
       "1098               taste  \n",
       "1099  outdoor_atmosphere  \n",
       "\n",
       "[1100 rows x 6 columns]"
      ]
     },
     "execution_count": 2,
     "metadata": {},
     "output_type": "execute_result"
    }
   ],
   "source": [
    "complete_dataset = pd.read_csv('/kaggle/input/google-maps-restaurant-reviews/reviews.csv')\n",
    "complete_dataset"
   ]
  },
  {
   "cell_type": "markdown",
   "id": "6f59a861",
   "metadata": {
    "papermill": {
     "duration": 0.009946,
     "end_time": "2023-09-08T15:02:55.944099",
     "exception": false,
     "start_time": "2023-09-08T15:02:55.934153",
     "status": "completed"
    },
    "tags": []
   },
   "source": [
    "## Looking at the data counts and missing values"
   ]
  },
  {
   "cell_type": "code",
   "execution_count": 3,
   "id": "c2c4d141",
   "metadata": {
    "execution": {
     "iopub.execute_input": "2023-09-08T15:02:55.966641Z",
     "iopub.status.busy": "2023-09-08T15:02:55.966002Z",
     "iopub.status.idle": "2023-09-08T15:02:55.982458Z",
     "shell.execute_reply": "2023-09-08T15:02:55.981283Z"
    },
    "papermill": {
     "duration": 0.030602,
     "end_time": "2023-09-08T15:02:55.984919",
     "exception": false,
     "start_time": "2023-09-08T15:02:55.954317",
     "status": "completed"
    },
    "tags": []
   },
   "outputs": [
    {
     "data": {
      "text/html": [
       "<div>\n",
       "<style scoped>\n",
       "    .dataframe tbody tr th:only-of-type {\n",
       "        vertical-align: middle;\n",
       "    }\n",
       "\n",
       "    .dataframe tbody tr th {\n",
       "        vertical-align: top;\n",
       "    }\n",
       "\n",
       "    .dataframe thead th {\n",
       "        text-align: right;\n",
       "    }\n",
       "</style>\n",
       "<table border=\"1\" class=\"dataframe\">\n",
       "  <thead>\n",
       "    <tr style=\"text-align: right;\">\n",
       "      <th></th>\n",
       "      <th>rating</th>\n",
       "    </tr>\n",
       "  </thead>\n",
       "  <tbody>\n",
       "    <tr>\n",
       "      <th>count</th>\n",
       "      <td>1100.000000</td>\n",
       "    </tr>\n",
       "    <tr>\n",
       "      <th>mean</th>\n",
       "      <td>3.912727</td>\n",
       "    </tr>\n",
       "    <tr>\n",
       "      <th>std</th>\n",
       "      <td>1.218459</td>\n",
       "    </tr>\n",
       "    <tr>\n",
       "      <th>min</th>\n",
       "      <td>1.000000</td>\n",
       "    </tr>\n",
       "    <tr>\n",
       "      <th>25%</th>\n",
       "      <td>3.000000</td>\n",
       "    </tr>\n",
       "    <tr>\n",
       "      <th>50%</th>\n",
       "      <td>4.000000</td>\n",
       "    </tr>\n",
       "    <tr>\n",
       "      <th>75%</th>\n",
       "      <td>5.000000</td>\n",
       "    </tr>\n",
       "    <tr>\n",
       "      <th>max</th>\n",
       "      <td>5.000000</td>\n",
       "    </tr>\n",
       "  </tbody>\n",
       "</table>\n",
       "</div>"
      ],
      "text/plain": [
       "            rating\n",
       "count  1100.000000\n",
       "mean      3.912727\n",
       "std       1.218459\n",
       "min       1.000000\n",
       "25%       3.000000\n",
       "50%       4.000000\n",
       "75%       5.000000\n",
       "max       5.000000"
      ]
     },
     "execution_count": 3,
     "metadata": {},
     "output_type": "execute_result"
    }
   ],
   "source": [
    "complete_dataset.describe() # only gives information about the rating as all other columns contain object dtypes."
   ]
  },
  {
   "cell_type": "code",
   "execution_count": 4,
   "id": "5cd6b0d0",
   "metadata": {
    "execution": {
     "iopub.execute_input": "2023-09-08T15:02:56.008158Z",
     "iopub.status.busy": "2023-09-08T15:02:56.007429Z",
     "iopub.status.idle": "2023-09-08T15:02:56.530345Z",
     "shell.execute_reply": "2023-09-08T15:02:56.529272Z"
    },
    "papermill": {
     "duration": 0.537613,
     "end_time": "2023-09-08T15:02:56.533093",
     "exception": false,
     "start_time": "2023-09-08T15:02:55.995480",
     "status": "completed"
    },
    "tags": []
   },
   "outputs": [
    {
     "name": "stderr",
     "output_type": "stream",
     "text": [
      "/opt/conda/lib/python3.10/site-packages/seaborn/axisgrid.py:118: UserWarning: The figure layout has changed to tight\n",
      "  self._figure.tight_layout(*args, **kwargs)\n"
     ]
    },
    {
     "data": {
      "text/plain": [
       "<seaborn.axisgrid.FacetGrid at 0x7b4249ec0eb0>"
      ]
     },
     "execution_count": 4,
     "metadata": {},
     "output_type": "execute_result"
    },
    {
     "data": {
      "image/png": "[encoded data removed]",
      "text/plain": [
       "<Figure size 500x500 with 1 Axes>"
      ]
     },
     "metadata": {},
     "output_type": "display_data"
    }
   ],
   "source": [
    "sns.displot(complete_dataset, x=\"rating\", discrete=True, kde=True, hue=\"rating\", legend=False)"
   ]
  },
  {
   "cell_type": "code",
   "execution_count": 5,
   "id": "4a44581c",
   "metadata": {
    "execution": {
     "iopub.execute_input": "2023-09-08T15:02:56.558771Z",
     "iopub.status.busy": "2023-09-08T15:02:56.557755Z",
     "iopub.status.idle": "2023-09-08T15:02:56.578512Z",
     "shell.execute_reply": "2023-09-08T15:02:56.577270Z"
    },
    "papermill": {
     "duration": 0.036355,
     "end_time": "2023-09-08T15:02:56.581027",
     "exception": false,
     "start_time": "2023-09-08T15:02:56.544672",
     "status": "completed"
    },
    "tags": []
   },
   "outputs": [
    {
     "name": "stdout",
     "output_type": "stream",
     "text": [
      "<class 'pandas.core.frame.DataFrame'>\n",
      "RangeIndex: 1100 entries, 0 to 1099\n",
      "Data columns (total 6 columns):\n",
      " #   Column           Non-Null Count  Dtype \n",
      "---  ------           --------------  ----- \n",
      " 0   business_name    1100 non-null   object\n",
      " 1   author_name      1100 non-null   object\n",
      " 2   text             1100 non-null   object\n",
      " 3   photo            1100 non-null   object\n",
      " 4   rating           1100 non-null   int64 \n",
      " 5   rating_category  1100 non-null   object\n",
      "dtypes: int64(1), object(5)\n",
      "memory usage: 51.7+ KB\n"
     ]
    }
   ],
   "source": [
    "complete_dataset.info()"
   ]
  },
  {
   "cell_type": "code",
   "execution_count": 6,
   "id": "8eaf92c8",
   "metadata": {
    "execution": {
     "iopub.execute_input": "2023-09-08T15:02:56.605775Z",
     "iopub.status.busy": "2023-09-08T15:02:56.605369Z",
     "iopub.status.idle": "2023-09-08T15:02:56.615183Z",
     "shell.execute_reply": "2023-09-08T15:02:56.614065Z"
    },
    "papermill": {
     "duration": 0.025031,
     "end_time": "2023-09-08T15:02:56.617617",
     "exception": false,
     "start_time": "2023-09-08T15:02:56.592586",
     "status": "completed"
    },
    "tags": []
   },
   "outputs": [
    {
     "data": {
      "text/plain": [
       "business_name      0\n",
       "author_name        0\n",
       "text               0\n",
       "photo              0\n",
       "rating             0\n",
       "rating_category    0\n",
       "dtype: int64"
      ]
     },
     "execution_count": 6,
     "metadata": {},
     "output_type": "execute_result"
    }
   ],
   "source": [
    "complete_dataset.isna().sum() # no null values: a really good dataset?"
   ]
  },
  {
   "cell_type": "code",
   "execution_count": 7,
   "id": "c918bdcf",
   "metadata": {
    "execution": {
     "iopub.execute_input": "2023-09-08T15:02:56.643409Z",
     "iopub.status.busy": "2023-09-08T15:02:56.642256Z",
     "iopub.status.idle": "2023-09-08T15:02:56.650311Z",
     "shell.execute_reply": "2023-09-08T15:02:56.649084Z"
    },
    "papermill": {
     "duration": 0.023281,
     "end_time": "2023-09-08T15:02:56.652637",
     "exception": false,
     "start_time": "2023-09-08T15:02:56.629356",
     "status": "completed"
    },
    "tags": []
   },
   "outputs": [
    {
     "name": "stdout",
     "output_type": "stream",
     "text": [
      "List of Restaurants:\n",
      " [\"Haci'nin Yeri - Yigit Lokantasi\" 'Pizza Fellas' 'Cafe Inn' 'Riviera'\n",
      " 'Sakip Usta Gaziantep' 'Imam Cagdas' 'Gold Semaver'\n",
      " 'Fethiye Dondurmacisi' 'My Friends Burger' 'Mcdonalds Fethiye'\n",
      " 'Pukka Marmaris' 'Starbucks Bodrum' 'Churchill Bistro' 'Leman Kultur'\n",
      " 'Tatbak' 'Guzel Koy Cafe' 'Cemo Etliekmek' 'Korelee' 'Patso Burger'\n",
      " 'Vefa Bozacisi' 'Salacak' 'Nusr-et' 'Tuana Restaurant' 'Cici Tantuni'\n",
      " 'Bunbun Kas' 'Gulcimen Aspava' 'Nazar Cafe' 'Alsancak Firin' 'Sushico'\n",
      " 'Sardalye' 'Kumrucu Omur' 'Kofteci Yusuf' 'Bogazkoy Restaurant' 'Nesh'\n",
      " 'Flash' 'Metanet Lokantasi' 'Midpoint' 'Pecko Firin Atakum' 'Bilice'\n",
      " 'Baruthane Pilavcisi' 'Medeniyetler Sofrasi' 'Backyard' 'Alavara' 'Zula'\n",
      " 'Kafros Pizzeria' 'Kebabci Halil Usta' 'Abidin Tantuni' 'Ahsap Iskender'\n",
      " 'Kasikla Restaurant' 'Askin Tostevi' 'Pizzeria Remo'\n",
      " 'Diyarbakir Ocakbasi Palace' 'Kaliteci' 'Sanukiya' 'KFC' 'Kruvasan'\n",
      " 'Midyeci Ahmet' 'Kalkanoglu Pilav' 'Monica Kitchen' 'Sevinc Pastanesi'\n",
      " 'Hasan Usta' 'Magro' 'Duveroglu' 'Rumeli Iskembecisi' 'Ege Vera'\n",
      " 'Antakya Mutfagi' 'Mevlana Lokantasi' 'Balikci Tanju' 'Yesemek'\n",
      " 'Umut Pide' 'Sema Gozleme' 'Asucan Restaurant' 'Ciya Sofrasi'\n",
      " 'Koco Restaurant' 'Tavuk Dunyasi' 'Kumsal Lokantasi' 'Salih Usta'\n",
      " 'Red Dragon' 'Mado' 'Classic Thai' 'Inegol Restaurant'\n",
      " 'Karakoy Lokantasi' 'Mersinli Cigerci Apo' 'Baskent Aspava' 'Sini Mugla'\n",
      " 'Fikret Balik Restaurant' 'Kocak Baklava' 'Kadineli' 'Anzelha'\n",
      " 'Akpinar Restaurant' 'Kebabci Mahmut' 'J Burber' 'Popeyes' 'Say Cheese'\n",
      " 'Kukis Suadiye' 'Lipa' 'Minoa' 'Suflor' 'Berdan Doner' 'Miss Pizza']\n",
      "\n",
      "Count =  100\n"
     ]
    }
   ],
   "source": [
    "print(\"List of Restaurants:\\n\", complete_dataset[\"business_name\"].unique())\n",
    "print()\n",
    "print(\"Count = \", complete_dataset[\"business_name\"].nunique())"
   ]
  },
  {
   "cell_type": "code",
   "execution_count": 8,
   "id": "66ace820",
   "metadata": {
    "execution": {
     "iopub.execute_input": "2023-09-08T15:02:56.678252Z",
     "iopub.status.busy": "2023-09-08T15:02:56.677894Z",
     "iopub.status.idle": "2023-09-08T15:02:56.683918Z",
     "shell.execute_reply": "2023-09-08T15:02:56.683157Z"
    },
    "papermill": {
     "duration": 0.021733,
     "end_time": "2023-09-08T15:02:56.686228",
     "exception": false,
     "start_time": "2023-09-08T15:02:56.664495",
     "status": "completed"
    },
    "tags": []
   },
   "outputs": [
    {
     "name": "stdout",
     "output_type": "stream",
     "text": [
      "List of Authors:\n",
      " ['Gulsum Akar' 'Oguzhan Cetin' 'Yasin Kuyu' ... 'Ulkem Esen'\n",
      " 'Ilkin Saymaz' 'Samet Selcuk']\n",
      "\n",
      "Count =  1074\n"
     ]
    }
   ],
   "source": [
    "print(\"List of Authors:\\n\", complete_dataset[\"author_name\"].unique())\n",
    "print()\n",
    "print(\"Count = \", complete_dataset[\"author_name\"].nunique())"
   ]
  },
  {
   "cell_type": "code",
   "execution_count": 9,
   "id": "9154794c",
   "metadata": {
    "execution": {
     "iopub.execute_input": "2023-09-08T15:02:56.711467Z",
     "iopub.status.busy": "2023-09-08T15:02:56.711099Z",
     "iopub.status.idle": "2023-09-08T15:02:56.724020Z",
     "shell.execute_reply": "2023-09-08T15:02:56.722930Z"
    },
    "papermill": {
     "duration": 0.02822,
     "end_time": "2023-09-08T15:02:56.726213",
     "exception": false,
     "start_time": "2023-09-08T15:02:56.697993",
     "status": "completed"
    },
    "tags": []
   },
   "outputs": [
    {
     "name": "stdout",
     "output_type": "stream",
     "text": [
      "author_name\n",
      "Nihat Karabiber     3\n",
      "Ece Oztunc          3\n",
      "Mustafa Ay          3\n",
      "Saliha Senyildiz    3\n",
      "Seda Seven          2\n",
      "                   ..\n",
      "Derya Al            1\n",
      "Hilal Kaya          1\n",
      "Resul Diri          1\n",
      "Behcet Cengiz       1\n",
      "Samet Selcuk        1\n",
      "Name: count, Length: 1074, dtype: int64\n",
      "\n"
     ]
    },
    {
     "data": {
      "text/plain": [
       "22"
      ]
     },
     "execution_count": 9,
     "metadata": {},
     "output_type": "execute_result"
    }
   ],
   "source": [
    "print(complete_dataset[\"author_name\"].value_counts())\n",
    "print()\n",
    "multiple_rating_authors = complete_dataset[\"author_name\"].value_counts() > 1\n",
    "len(multiple_rating_authors[multiple_rating_authors == True]) # 22 authors have written multiple reviews out of all the 1074 unique authors"
   ]
  },
  {
   "cell_type": "markdown",
   "id": "bb640510",
   "metadata": {
    "papermill": {
     "duration": 0.011648,
     "end_time": "2023-09-08T15:02:56.749872",
     "exception": false,
     "start_time": "2023-09-08T15:02:56.738224",
     "status": "completed"
    },
    "tags": []
   },
   "source": [
    "### Dropping photo path for now to focus on the rest of the dataset"
   ]
  },
  {
   "cell_type": "code",
   "execution_count": 10,
   "id": "d99e5a5b",
   "metadata": {
    "execution": {
     "iopub.execute_input": "2023-09-08T15:02:56.775419Z",
     "iopub.status.busy": "2023-09-08T15:02:56.775024Z",
     "iopub.status.idle": "2023-09-08T15:02:56.792359Z",
     "shell.execute_reply": "2023-09-08T15:02:56.791486Z"
    },
    "papermill": {
     "duration": 0.032843,
     "end_time": "2023-09-08T15:02:56.794482",
     "exception": false,
     "start_time": "2023-09-08T15:02:56.761639",
     "status": "completed"
    },
    "tags": []
   },
   "outputs": [
    {
     "data": {
      "text/html": [
       "<div>\n",
       "<style scoped>\n",
       "    .dataframe tbody tr th:only-of-type {\n",
       "        vertical-align: middle;\n",
       "    }\n",
       "\n",
       "    .dataframe tbody tr th {\n",
       "        vertical-align: top;\n",
       "    }\n",
       "\n",
       "    .dataframe thead th {\n",
       "        text-align: right;\n",
       "    }\n",
       "</style>\n",
       "<table border=\"1\" class=\"dataframe\">\n",
       "  <thead>\n",
       "    <tr style=\"text-align: right;\">\n",
       "      <th></th>\n",
       "      <th>business_name</th>\n",
       "      <th>author_name</th>\n",
       "      <th>text</th>\n",
       "      <th>rating</th>\n",
       "      <th>rating_category</th>\n",
       "    </tr>\n",
       "  </thead>\n",
       "  <tbody>\n",
       "    <tr>\n",
       "      <th>0</th>\n",
       "      <td>Haci'nin Yeri - Yigit Lokantasi</td>\n",
       "      <td>Gulsum Akar</td>\n",
       "      <td>We went to Marmaris with my wife for a holiday...</td>\n",
       "      <td>5</td>\n",
       "      <td>taste</td>\n",
       "    </tr>\n",
       "    <tr>\n",
       "      <th>1</th>\n",
       "      <td>Haci'nin Yeri - Yigit Lokantasi</td>\n",
       "      <td>Oguzhan Cetin</td>\n",
       "      <td>During my holiday in Marmaris we ate here to f...</td>\n",
       "      <td>4</td>\n",
       "      <td>menu</td>\n",
       "    </tr>\n",
       "    <tr>\n",
       "      <th>2</th>\n",
       "      <td>Haci'nin Yeri - Yigit Lokantasi</td>\n",
       "      <td>Yasin Kuyu</td>\n",
       "      <td>Prices are very affordable. The menu in the ph...</td>\n",
       "      <td>3</td>\n",
       "      <td>outdoor_atmosphere</td>\n",
       "    </tr>\n",
       "    <tr>\n",
       "      <th>3</th>\n",
       "      <td>Haci'nin Yeri - Yigit Lokantasi</td>\n",
       "      <td>Orhan Kapu</td>\n",
       "      <td>Turkey's cheapest artisan restaurant and its f...</td>\n",
       "      <td>5</td>\n",
       "      <td>indoor_atmosphere</td>\n",
       "    </tr>\n",
       "    <tr>\n",
       "      <th>4</th>\n",
       "      <td>Haci'nin Yeri - Yigit Lokantasi</td>\n",
       "      <td>Ozgur Sati</td>\n",
       "      <td>I don't know what you will look for in terms o...</td>\n",
       "      <td>3</td>\n",
       "      <td>menu</td>\n",
       "    </tr>\n",
       "    <tr>\n",
       "      <th>...</th>\n",
       "      <td>...</td>\n",
       "      <td>...</td>\n",
       "      <td>...</td>\n",
       "      <td>...</td>\n",
       "      <td>...</td>\n",
       "    </tr>\n",
       "    <tr>\n",
       "      <th>1095</th>\n",
       "      <td>Miss Pizza</td>\n",
       "      <td>Salih Gursoy</td>\n",
       "      <td>There are so many types of pizza; you are surp...</td>\n",
       "      <td>5</td>\n",
       "      <td>taste</td>\n",
       "    </tr>\n",
       "    <tr>\n",
       "      <th>1096</th>\n",
       "      <td>Miss Pizza</td>\n",
       "      <td>Kemal Amangeldi</td>\n",
       "      <td>I tried the smoked ribeye pizza; the dough is ...</td>\n",
       "      <td>5</td>\n",
       "      <td>indoor_atmosphere</td>\n",
       "    </tr>\n",
       "    <tr>\n",
       "      <th>1097</th>\n",
       "      <td>Miss Pizza</td>\n",
       "      <td>Ulkem Esen</td>\n",
       "      <td>Crowded and expensive place.</td>\n",
       "      <td>3</td>\n",
       "      <td>menu</td>\n",
       "    </tr>\n",
       "    <tr>\n",
       "      <th>1098</th>\n",
       "      <td>Miss Pizza</td>\n",
       "      <td>Ilkin Saymaz</td>\n",
       "      <td>No bad. It was very crowded; there was no ligh...</td>\n",
       "      <td>3</td>\n",
       "      <td>taste</td>\n",
       "    </tr>\n",
       "    <tr>\n",
       "      <th>1099</th>\n",
       "      <td>Miss Pizza</td>\n",
       "      <td>Samet Selcuk</td>\n",
       "      <td>Excellent pizza and fine wine. Both food and b...</td>\n",
       "      <td>4</td>\n",
       "      <td>outdoor_atmosphere</td>\n",
       "    </tr>\n",
       "  </tbody>\n",
       "</table>\n",
       "<p>1100 rows × 5 columns</p>\n",
       "</div>"
      ],
      "text/plain": [
       "                        business_name      author_name  \\\n",
       "0     Haci'nin Yeri - Yigit Lokantasi      Gulsum Akar   \n",
       "1     Haci'nin Yeri - Yigit Lokantasi    Oguzhan Cetin   \n",
       "2     Haci'nin Yeri - Yigit Lokantasi       Yasin Kuyu   \n",
       "3     Haci'nin Yeri - Yigit Lokantasi       Orhan Kapu   \n",
       "4     Haci'nin Yeri - Yigit Lokantasi       Ozgur Sati   \n",
       "...                               ...              ...   \n",
       "1095                       Miss Pizza     Salih Gursoy   \n",
       "1096                       Miss Pizza  Kemal Amangeldi   \n",
       "1097                       Miss Pizza       Ulkem Esen   \n",
       "1098                       Miss Pizza     Ilkin Saymaz   \n",
       "1099                       Miss Pizza     Samet Selcuk   \n",
       "\n",
       "                                                   text  rating  \\\n",
       "0     We went to Marmaris with my wife for a holiday...       5   \n",
       "1     During my holiday in Marmaris we ate here to f...       4   \n",
       "2     Prices are very affordable. The menu in the ph...       3   \n",
       "3     Turkey's cheapest artisan restaurant and its f...       5   \n",
       "4     I don't know what you will look for in terms o...       3   \n",
       "...                                                 ...     ...   \n",
       "1095  There are so many types of pizza; you are surp...       5   \n",
       "1096  I tried the smoked ribeye pizza; the dough is ...       5   \n",
       "1097                       Crowded and expensive place.       3   \n",
       "1098  No bad. It was very crowded; there was no ligh...       3   \n",
       "1099  Excellent pizza and fine wine. Both food and b...       4   \n",
       "\n",
       "         rating_category  \n",
       "0                  taste  \n",
       "1                   menu  \n",
       "2     outdoor_atmosphere  \n",
       "3      indoor_atmosphere  \n",
       "4                   menu  \n",
       "...                  ...  \n",
       "1095               taste  \n",
       "1096   indoor_atmosphere  \n",
       "1097                menu  \n",
       "1098               taste  \n",
       "1099  outdoor_atmosphere  \n",
       "\n",
       "[1100 rows x 5 columns]"
      ]
     },
     "execution_count": 10,
     "metadata": {},
     "output_type": "execute_result"
    }
   ],
   "source": [
    "dataset = complete_dataset.drop(\"photo\", axis=1)\n",
    "dataset"
   ]
  },
  {
   "cell_type": "markdown",
   "id": "00ce9eb6",
   "metadata": {
    "papermill": {
     "duration": 0.012122,
     "end_time": "2023-09-08T15:02:56.819370",
     "exception": false,
     "start_time": "2023-09-08T15:02:56.807248",
     "status": "completed"
    },
    "tags": []
   },
   "source": [
    "### Creating a text length column"
   ]
  },
  {
   "cell_type": "code",
   "execution_count": 11,
   "id": "bad300bd",
   "metadata": {
    "execution": {
     "iopub.execute_input": "2023-09-08T15:02:56.846132Z",
     "iopub.status.busy": "2023-09-08T15:02:56.845726Z",
     "iopub.status.idle": "2023-09-08T15:02:56.863586Z",
     "shell.execute_reply": "2023-09-08T15:02:56.862786Z"
    },
    "papermill": {
     "duration": 0.033923,
     "end_time": "2023-09-08T15:02:56.865652",
     "exception": false,
     "start_time": "2023-09-08T15:02:56.831729",
     "status": "completed"
    },
    "tags": []
   },
   "outputs": [
    {
     "data": {
      "text/html": [
       "<div>\n",
       "<style scoped>\n",
       "    .dataframe tbody tr th:only-of-type {\n",
       "        vertical-align: middle;\n",
       "    }\n",
       "\n",
       "    .dataframe tbody tr th {\n",
       "        vertical-align: top;\n",
       "    }\n",
       "\n",
       "    .dataframe thead th {\n",
       "        text-align: right;\n",
       "    }\n",
       "</style>\n",
       "<table border=\"1\" class=\"dataframe\">\n",
       "  <thead>\n",
       "    <tr style=\"text-align: right;\">\n",
       "      <th></th>\n",
       "      <th>business_name</th>\n",
       "      <th>author_name</th>\n",
       "      <th>text</th>\n",
       "      <th>rating</th>\n",
       "      <th>rating_category</th>\n",
       "      <th>text_length</th>\n",
       "    </tr>\n",
       "  </thead>\n",
       "  <tbody>\n",
       "    <tr>\n",
       "      <th>0</th>\n",
       "      <td>Haci'nin Yeri - Yigit Lokantasi</td>\n",
       "      <td>Gulsum Akar</td>\n",
       "      <td>We went to Marmaris with my wife for a holiday...</td>\n",
       "      <td>5</td>\n",
       "      <td>taste</td>\n",
       "      <td>680</td>\n",
       "    </tr>\n",
       "    <tr>\n",
       "      <th>1</th>\n",
       "      <td>Haci'nin Yeri - Yigit Lokantasi</td>\n",
       "      <td>Oguzhan Cetin</td>\n",
       "      <td>During my holiday in Marmaris we ate here to f...</td>\n",
       "      <td>4</td>\n",
       "      <td>menu</td>\n",
       "      <td>914</td>\n",
       "    </tr>\n",
       "    <tr>\n",
       "      <th>2</th>\n",
       "      <td>Haci'nin Yeri - Yigit Lokantasi</td>\n",
       "      <td>Yasin Kuyu</td>\n",
       "      <td>Prices are very affordable. The menu in the ph...</td>\n",
       "      <td>3</td>\n",
       "      <td>outdoor_atmosphere</td>\n",
       "      <td>173</td>\n",
       "    </tr>\n",
       "    <tr>\n",
       "      <th>3</th>\n",
       "      <td>Haci'nin Yeri - Yigit Lokantasi</td>\n",
       "      <td>Orhan Kapu</td>\n",
       "      <td>Turkey's cheapest artisan restaurant and its f...</td>\n",
       "      <td>5</td>\n",
       "      <td>indoor_atmosphere</td>\n",
       "      <td>63</td>\n",
       "    </tr>\n",
       "    <tr>\n",
       "      <th>4</th>\n",
       "      <td>Haci'nin Yeri - Yigit Lokantasi</td>\n",
       "      <td>Ozgur Sati</td>\n",
       "      <td>I don't know what you will look for in terms o...</td>\n",
       "      <td>3</td>\n",
       "      <td>menu</td>\n",
       "      <td>161</td>\n",
       "    </tr>\n",
       "    <tr>\n",
       "      <th>...</th>\n",
       "      <td>...</td>\n",
       "      <td>...</td>\n",
       "      <td>...</td>\n",
       "      <td>...</td>\n",
       "      <td>...</td>\n",
       "      <td>...</td>\n",
       "    </tr>\n",
       "    <tr>\n",
       "      <th>1095</th>\n",
       "      <td>Miss Pizza</td>\n",
       "      <td>Salih Gursoy</td>\n",
       "      <td>There are so many types of pizza; you are surp...</td>\n",
       "      <td>5</td>\n",
       "      <td>taste</td>\n",
       "      <td>159</td>\n",
       "    </tr>\n",
       "    <tr>\n",
       "      <th>1096</th>\n",
       "      <td>Miss Pizza</td>\n",
       "      <td>Kemal Amangeldi</td>\n",
       "      <td>I tried the smoked ribeye pizza; the dough is ...</td>\n",
       "      <td>5</td>\n",
       "      <td>indoor_atmosphere</td>\n",
       "      <td>66</td>\n",
       "    </tr>\n",
       "    <tr>\n",
       "      <th>1097</th>\n",
       "      <td>Miss Pizza</td>\n",
       "      <td>Ulkem Esen</td>\n",
       "      <td>Crowded and expensive place.</td>\n",
       "      <td>3</td>\n",
       "      <td>menu</td>\n",
       "      <td>28</td>\n",
       "    </tr>\n",
       "    <tr>\n",
       "      <th>1098</th>\n",
       "      <td>Miss Pizza</td>\n",
       "      <td>Ilkin Saymaz</td>\n",
       "      <td>No bad. It was very crowded; there was no ligh...</td>\n",
       "      <td>3</td>\n",
       "      <td>taste</td>\n",
       "      <td>112</td>\n",
       "    </tr>\n",
       "    <tr>\n",
       "      <th>1099</th>\n",
       "      <td>Miss Pizza</td>\n",
       "      <td>Samet Selcuk</td>\n",
       "      <td>Excellent pizza and fine wine. Both food and b...</td>\n",
       "      <td>4</td>\n",
       "      <td>outdoor_atmosphere</td>\n",
       "      <td>86</td>\n",
       "    </tr>\n",
       "  </tbody>\n",
       "</table>\n",
       "<p>1100 rows × 6 columns</p>\n",
       "</div>"
      ],
      "text/plain": [
       "                        business_name      author_name  \\\n",
       "0     Haci'nin Yeri - Yigit Lokantasi      Gulsum Akar   \n",
       "1     Haci'nin Yeri - Yigit Lokantasi    Oguzhan Cetin   \n",
       "2     Haci'nin Yeri - Yigit Lokantasi       Yasin Kuyu   \n",
       "3     Haci'nin Yeri - Yigit Lokantasi       Orhan Kapu   \n",
       "4     Haci'nin Yeri - Yigit Lokantasi       Ozgur Sati   \n",
       "...                               ...              ...   \n",
       "1095                       Miss Pizza     Salih Gursoy   \n",
       "1096                       Miss Pizza  Kemal Amangeldi   \n",
       "1097                       Miss Pizza       Ulkem Esen   \n",
       "1098                       Miss Pizza     Ilkin Saymaz   \n",
       "1099                       Miss Pizza     Samet Selcuk   \n",
       "\n",
       "                                                   text  rating  \\\n",
       "0     We went to Marmaris with my wife for a holiday...       5   \n",
       "1     During my holiday in Marmaris we ate here to f...       4   \n",
       "2     Prices are very affordable. The menu in the ph...       3   \n",
       "3     Turkey's cheapest artisan restaurant and its f...       5   \n",
       "4     I don't know what you will look for in terms o...       3   \n",
       "...                                                 ...     ...   \n",
       "1095  There are so many types of pizza; you are surp...       5   \n",
       "1096  I tried the smoked ribeye pizza; the dough is ...       5   \n",
       "1097                       Crowded and expensive place.       3   \n",
       "1098  No bad. It was very crowded; there was no ligh...       3   \n",
       "1099  Excellent pizza and fine wine. Both food and b...       4   \n",
       "\n",
       "         rating_category  text_length  \n",
       "0                  taste          680  \n",
       "1                   menu          914  \n",
       "2     outdoor_atmosphere          173  \n",
       "3      indoor_atmosphere           63  \n",
       "4                   menu          161  \n",
       "...                  ...          ...  \n",
       "1095               taste          159  \n",
       "1096   indoor_atmosphere           66  \n",
       "1097                menu           28  \n",
       "1098               taste          112  \n",
       "1099  outdoor_atmosphere           86  \n",
       "\n",
       "[1100 rows x 6 columns]"
      ]
     },
     "execution_count": 11,
     "metadata": {},
     "output_type": "execute_result"
    }
   ],
   "source": [
    "dataset[\"text_length\"] = [len(text) for text in dataset[\"text\"]]\n",
    "dataset"
   ]
  },
  {
   "cell_type": "markdown",
   "id": "46e9cdb3",
   "metadata": {
    "papermill": {
     "duration": 0.012276,
     "end_time": "2023-09-08T15:02:56.891003",
     "exception": false,
     "start_time": "2023-09-08T15:02:56.878727",
     "status": "completed"
    },
    "tags": []
   },
   "source": [
    "## Rating vs text length"
   ]
  },
  {
   "cell_type": "code",
   "execution_count": 12,
   "id": "c15ff022",
   "metadata": {
    "execution": {
     "iopub.execute_input": "2023-09-08T15:02:56.917742Z",
     "iopub.status.busy": "2023-09-08T15:02:56.917319Z",
     "iopub.status.idle": "2023-09-08T15:02:57.216869Z",
     "shell.execute_reply": "2023-09-08T15:02:57.215867Z"
    },
    "papermill": {
     "duration": 0.316142,
     "end_time": "2023-09-08T15:02:57.219473",
     "exception": false,
     "start_time": "2023-09-08T15:02:56.903331",
     "status": "completed"
    },
    "tags": []
   },
   "outputs": [
    {
     "data": {
      "text/plain": [
       "<Axes: xlabel='rating', ylabel='text_length'>"
      ]
     },
     "execution_count": 12,
     "metadata": {},
     "output_type": "execute_result"
    },
    {
     "data": {
      "image/png": "[encoded data removed]",
      "text/plain": [
       "<Figure size 640x480 with 1 Axes>"
      ]
     },
     "metadata": {},
     "output_type": "display_data"
    }
   ],
   "source": [
    "sns.boxplot(x=dataset[\"rating\"], y=dataset[\"text_length\"])"
   ]
  },
  {
   "cell_type": "code",
   "execution_count": 13,
   "id": "1f7ba507",
   "metadata": {
    "execution": {
     "iopub.execute_input": "2023-09-08T15:02:57.248639Z",
     "iopub.status.busy": "2023-09-08T15:02:57.248226Z",
     "iopub.status.idle": "2023-09-08T15:02:59.077655Z",
     "shell.execute_reply": "2023-09-08T15:02:59.076539Z"
    },
    "papermill": {
     "duration": 1.847483,
     "end_time": "2023-09-08T15:02:59.080515",
     "exception": false,
     "start_time": "2023-09-08T15:02:57.233032",
     "status": "completed"
    },
    "tags": []
   },
   "outputs": [
    {
     "name": "stderr",
     "output_type": "stream",
     "text": [
      "/opt/conda/lib/python3.10/site-packages/seaborn/axisgrid.py:118: UserWarning: The figure layout has changed to tight\n",
      "  self._figure.tight_layout(*args, **kwargs)\n"
     ]
    },
    {
     "data": {
      "text/plain": [
       "<seaborn.axisgrid.FacetGrid at 0x7b4249ec0cd0>"
      ]
     },
     "execution_count": 13,
     "metadata": {},
     "output_type": "execute_result"
    },
    {
     "data": {
      "image/png": "[encoded data removed]",
      "text/plain": [
       "<Figure size 1500x300 with 5 Axes>"
      ]
     },
     "metadata": {},
     "output_type": "display_data"
    }
   ],
   "source": [
    "ratings = dataset[\"rating\"].value_counts().index\n",
    "grid = sns.FacetGrid(dataset, col=\"rating\", row_order=ratings)\n",
    "grid.map(sns.kdeplot, \"text_length\")"
   ]
  },
  {
   "cell_type": "code",
   "execution_count": 14,
   "id": "fcbc48a0",
   "metadata": {
    "execution": {
     "iopub.execute_input": "2023-09-08T15:02:59.111682Z",
     "iopub.status.busy": "2023-09-08T15:02:59.110667Z",
     "iopub.status.idle": "2023-09-08T15:02:59.123583Z",
     "shell.execute_reply": "2023-09-08T15:02:59.122270Z"
    },
    "papermill": {
     "duration": 0.031131,
     "end_time": "2023-09-08T15:02:59.126150",
     "exception": false,
     "start_time": "2023-09-08T15:02:59.095019",
     "status": "completed"
    },
    "tags": []
   },
   "outputs": [
    {
     "name": "stdout",
     "output_type": "stream",
     "text": [
      "MEAN rating\n",
      "1    117.837500\n",
      "2    126.125000\n",
      "3    109.052326\n",
      "4    110.740506\n",
      "5    107.956522\n",
      "Name: text_length, dtype: float64\n",
      "\n",
      "MEDAIN rating\n",
      "1    107.0\n",
      "2    117.5\n",
      "3    107.0\n",
      "4    104.0\n",
      "5     99.0\n",
      "Name: text_length, dtype: float64\n"
     ]
    }
   ],
   "source": [
    "lengthwise_df = dataset.groupby(\"rating\")\n",
    "\n",
    "print(\"MEAN\", lengthwise_df[\"text_length\"].mean())\n",
    "print()\n",
    "print(\"MEDAIN\", lengthwise_df[\"text_length\"].median())"
   ]
  },
  {
   "cell_type": "markdown",
   "id": "3bcca685",
   "metadata": {
    "papermill": {
     "duration": 0.014299,
     "end_time": "2023-09-08T15:02:59.154995",
     "exception": false,
     "start_time": "2023-09-08T15:02:59.140696",
     "status": "completed"
    },
    "tags": []
   },
   "source": [
    "#### The length of text reviews do not seem to have much of a change on what rating was given to the restaurant."
   ]
  },
  {
   "cell_type": "markdown",
   "id": "e18fb4fb",
   "metadata": {
    "papermill": {
     "duration": 0.014121,
     "end_time": "2023-09-08T15:02:59.183394",
     "exception": false,
     "start_time": "2023-09-08T15:02:59.169273",
     "status": "completed"
    },
    "tags": []
   },
   "source": [
    "## Rating Category vs text length"
   ]
  },
  {
   "cell_type": "code",
   "execution_count": 15,
   "id": "da5cf0d2",
   "metadata": {
    "execution": {
     "iopub.execute_input": "2023-09-08T15:02:59.214133Z",
     "iopub.status.busy": "2023-09-08T15:02:59.213739Z",
     "iopub.status.idle": "2023-09-08T15:02:59.499479Z",
     "shell.execute_reply": "2023-09-08T15:02:59.498339Z"
    },
    "papermill": {
     "duration": 0.303674,
     "end_time": "2023-09-08T15:02:59.501798",
     "exception": false,
     "start_time": "2023-09-08T15:02:59.198124",
     "status": "completed"
    },
    "tags": []
   },
   "outputs": [
    {
     "data": {
      "text/plain": [
       "<Axes: xlabel='rating_category', ylabel='text_length'>"
      ]
     },
     "execution_count": 15,
     "metadata": {},
     "output_type": "execute_result"
    },
    {
     "data": {
      "image/png": "[encoded data removed]",
      "text/plain": [
       "<Figure size 640x480 with 1 Axes>"
      ]
     },
     "metadata": {},
     "output_type": "display_data"
    }
   ],
   "source": [
    "sns.boxplot(x=dataset[\"rating_category\"], y=dataset[\"text_length\"])"
   ]
  },
  {
   "cell_type": "code",
   "execution_count": 16,
   "id": "0a6b1001",
   "metadata": {
    "execution": {
     "iopub.execute_input": "2023-09-08T15:02:59.534099Z",
     "iopub.status.busy": "2023-09-08T15:02:59.533715Z",
     "iopub.status.idle": "2023-09-08T15:03:00.925265Z",
     "shell.execute_reply": "2023-09-08T15:03:00.924011Z"
    },
    "papermill": {
     "duration": 1.4112,
     "end_time": "2023-09-08T15:03:00.928011",
     "exception": false,
     "start_time": "2023-09-08T15:02:59.516811",
     "status": "completed"
    },
    "tags": []
   },
   "outputs": [
    {
     "name": "stderr",
     "output_type": "stream",
     "text": [
      "/opt/conda/lib/python3.10/site-packages/seaborn/axisgrid.py:118: UserWarning: The figure layout has changed to tight\n",
      "  self._figure.tight_layout(*args, **kwargs)\n"
     ]
    },
    {
     "data": {
      "text/plain": [
       "<seaborn.axisgrid.FacetGrid at 0x7b421f287940>"
      ]
     },
     "execution_count": 16,
     "metadata": {},
     "output_type": "execute_result"
    },
    {
     "data": {
      "image/png": "[encoded data removed]",
      "text/plain": [
       "<Figure size 1200x300 with 4 Axes>"
      ]
     },
     "metadata": {},
     "output_type": "display_data"
    }
   ],
   "source": [
    "rating_categories = dataset[\"rating\"].value_counts().index\n",
    "grid = sns.FacetGrid(dataset, col=\"rating_category\", row_order=rating_categories)\n",
    "grid.map(sns.kdeplot, \"text_length\")"
   ]
  },
  {
   "cell_type": "code",
   "execution_count": 17,
   "id": "45d5e04a",
   "metadata": {
    "execution": {
     "iopub.execute_input": "2023-09-08T15:03:00.963252Z",
     "iopub.status.busy": "2023-09-08T15:03:00.962845Z",
     "iopub.status.idle": "2023-09-08T15:03:00.972845Z",
     "shell.execute_reply": "2023-09-08T15:03:00.971595Z"
    },
    "papermill": {
     "duration": 0.030381,
     "end_time": "2023-09-08T15:03:00.975246",
     "exception": false,
     "start_time": "2023-09-08T15:03:00.944865",
     "status": "completed"
    },
    "tags": []
   },
   "outputs": [
    {
     "name": "stdout",
     "output_type": "stream",
     "text": [
      "MEAN rating_category\n",
      "indoor_atmosphere     114.149306\n",
      "menu                  102.765306\n",
      "outdoor_atmosphere    102.041958\n",
      "taste                 120.357576\n",
      "Name: text_length, dtype: float64\n",
      "\n",
      "MEDAIN rating_category\n",
      "indoor_atmosphere     107.5\n",
      "menu                   92.0\n",
      "outdoor_atmosphere     98.0\n",
      "taste                 112.5\n",
      "Name: text_length, dtype: float64\n"
     ]
    }
   ],
   "source": [
    "lengthwise_df2 = dataset.groupby(\"rating_category\")\n",
    "\n",
    "print(\"MEAN\", lengthwise_df2[\"text_length\"].mean())\n",
    "print()\n",
    "print(\"MEDAIN\", lengthwise_df2[\"text_length\"].median())"
   ]
  },
  {
   "cell_type": "markdown",
   "id": "71b4befe",
   "metadata": {
    "papermill": {
     "duration": 0.016925,
     "end_time": "2023-09-08T15:03:01.009132",
     "exception": false,
     "start_time": "2023-09-08T15:03:00.992207",
     "status": "completed"
    },
    "tags": []
   },
   "source": [
    "## New section"
   ]
  },
  {
   "cell_type": "code",
   "execution_count": null,
   "id": "8efb90a7",
   "metadata": {
    "papermill": {
     "duration": 0.016127,
     "end_time": "2023-09-08T15:03:01.042121",
     "exception": false,
     "start_time": "2023-09-08T15:03:01.025994",
     "status": "completed"
    },
    "tags": []
   },
   "outputs": [],
   "source": []
  }
 ],
 "kernelspec": {
  "display_name": "Python 3",
  "language": "python",
  "name": "python3"
 },
 "language_info": {
  "codemirror_mode": {
   "name": "ipython",
   "version": 3
  },
  "file_extension": ".py",
  "mimetype": "text/x-python",
  "name": "python",
  "nbconvert_exporter": "python",
  "pygments_lexer": "ipython3",
  "version": "3.6.4"
 },
 "metadata": {
  "kernelspec": {
   "display_name": "Python 3",
   "language": "python",
   "name": "python3"
  },
  "language_info": {
   "codemirror_mode": {
    "name": "ipython",
    "version": 3
   },
   "file_extension": ".py",
   "mimetype": "text/x-python",
   "name": "python",
   "nbconvert_exporter": "python",
   "pygments_lexer": "ipython3",
   "version": "3.10.12"
  },
  "papermill": {
   "default_parameters": {},
   "duration": 12.237209,
   "end_time": "2023-09-08T15:03:01.679545",
   "environment_variables": {},
   "exception": null,
   "input_path": "__notebook__.ipynb",
   "output_path": "__notebook__.ipynb",
   "parameters": {},
   "start_time": "2023-09-08T15:02:49.442336",
   "version": "2.4.0"
  }
 },
 "nbformat": 4,
 "nbformat_minor": 5
}
